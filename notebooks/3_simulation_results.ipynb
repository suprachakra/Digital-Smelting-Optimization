{
 "cells": [
  {
   "cell_type": "markdown",
   "metadata": {},
   "source": [
    "# 3. Simulation Results & HPC Scaling\n",
    "\n",
    "In this notebook, we demonstrate:\n",
    "- Running PDE simulations on different mesh sizes\n",
    "- (Optionally) using MPI for parallel runs\n",
    "- Recording runtime and memory usage"
   ]
  },
  {
   "cell_type": "code",
   "metadata": {},
   "source": [
    "import sys\n",
    "import time\n",
    "import dolfin\n",
    "import numpy as np\n",
    "import matplotlib.pyplot as plt\n",
    "from models.thermal_model import ThermalModel\n",
    "\n",
    "# Check if we are running in parallel (MPI)\n",
    "mpi_comm = dolfin.MPI.comm_world\n",
    "rank = mpi_comm.Get_rank()\n",
    "size = mpi_comm.Get_size()\n",
    "\n",
    "if rank == 0:\n",
    "    print(f\"Running on {size} MPI processes.\")"
   ],
   "execution_count": null,
   "outputs": []
  },
  {
   "cell_type": "markdown",
   "metadata": {},
   "source": [
    "## 3.1 Vary Mesh Size\n",
    "We'll create a sequence of unit square meshes with increasing resolution: (20x20), (40x40), (80x80)."
   ]
  },
  {
   "cell_type": "code",
   "metadata": {},
   "source": [
    "mesh_sizes = [20, 40, 80]\n",
    "runtimes = []\n",
    "\n",
    "for msz in mesh_sizes:\n",
    "    mesh = dolfin.UnitSquareMesh(msz, msz)\n",
    "    model = ThermalModel(domain_mesh=mesh, rho=2700, cp=900, k=200, Q_electrical=0.0)\n",
    "    model.set_initial_condition(700.0)\n",
    "    model.set_boundary_conditions(700.0)\n",
    "\n",
    "    start_t = time.time()\n",
    "    # Simple run\n",
    "    results = model.run_simulation(total_time=10, dt=1)\n",
    "    end_t = time.time()\n",
    "    elapsed = end_t - start_t\n",
    "\n",
    "    # Collect times at rank=0\n",
    "    runtimes.append(elapsed)\n",
    "    if rank == 0:\n",
    "        print(f\"Mesh {msz}x{msz}, runtime: {elapsed:.2f} s\")"
   ],
   "execution_count": null,
   "outputs": []
  },
  {
   "cell_type": "markdown",
   "metadata": {},
   "source": [
    "## 3.2 Plot Performance"
   ]
  },
  {
   "cell_type": "code",
   "metadata": {},
   "source": [
    "if rank == 0:\n",
    "    plt.figure()\n",
    "    plt.plot(mesh_sizes, runtimes, marker='o')\n",
    "    plt.title('Runtime vs. Mesh Size')\n",
    "    plt.xlabel('Mesh Size')\n",
    "    plt.ylabel('Runtime (s)')\n",
    "    plt.grid(True)\n",
    "    plt.show()"
   ],
   "execution_count": null,
   "outputs": []
  }
 ],
 "metadata": {
  "kernelspec": {
   "display_name": "Python 3",
   "language": "python",
   "name": "python3"
  },
  "language_info": {
   "name": "python"
  }
 },
 "nbformat": 4,
 "nbformat_minor": 5
}


{
 "cells": [
  {
   "cell_type": "markdown",
   "metadata": {},
   "source": [
    "# 4. Optimization Studies\n",
    "\n",
    "In this notebook, we demonstrate how to run:\n",
    "- A single-objective energy minimization\n",
    "- A multi-objective approach (energy + GHG + anode events)\n",
    "using the modules in `optimization/`."
   ]
  },
  {
   "cell_type": "code",
   "metadata": {},
   "source": [
    "import numpy as np\n",
    "import matplotlib.pyplot as plt\n",
    "from optimization.energy_optimize import run_energy_optimization\n",
    "from optimization.multi_objective import run_multi_objective_optimization\n",
    "from optimization.constraints import default_constraints_fn\n",
    "\n",
    "# Suppose we have PDE outputs or we can mock them.\n",
    "pde_outputs_mock = {\n",
    "    'avg_temp': [780, 781, 779, 780, 781, 779, 780, 781, 780, 779],\n",
    "}\n",
    "\n",
    "# 1) Single-objective energy optimization\n",
    "energy_results, solve_status = run_energy_optimization(\n",
    "    pde_outputs=pde_outputs_mock,\n",
    "    constraints_fn=default_constraints_fn,\n",
    "    time_horizon=10\n",
    ")\n",
    "print('Single-Objective Energy Optimization:')\n",
    "print('Voltage:', energy_results['voltage'])\n",
    "print('Current:', energy_results['current'])\n",
    "print('Objective (Total Energy):', energy_results['objective'])"
   ],
   "execution_count": null,
   "outputs": []
  },
  {
   "cell_type": "markdown",
   "metadata": {},
   "source": [
    "## 4.1 Multi-Objective\n",
    "We consider a weighted sum of (Energy, GHG, Anode)."
   ]
  },
  {
   "cell_type": "code",
   "metadata": {},
   "source": [
    "multi_results, solve_status = run_multi_objective_optimization(\n",
    "    pde_outputs=pde_outputs_mock,\n",
    "    constraints_fn=default_constraints_fn,\n",
    "    weights=(0.5, 0.3, 0.2),\n",
    "    time_horizon=10\n",
    ")\n",
    "print('\\nMulti-Objective Optimization:')\n",
    "print('Voltage:', multi_results['voltage'])\n",
    "print('Current:', multi_results['current'])\n",
    "print('Objective (Weighted Sum):', multi_results['objective'])"
   ],
   "execution_count": null,
   "outputs": []
  },
  {
   "cell_type": "markdown",
   "metadata": {},
   "source": [
    "### 4.2 Observations\n",
    "In practice, you can vary weights or constraints, compare solutions, and plot results. You can also generate a Pareto front by systematically adjusting weight vectors or using a more advanced multi-objective method."
   ]
  }
 ],
 "metadata": {
  "kernelspec": {
   "display_name": "Python 3",
   "language": "python",
   "name": "python3"
  },
  "language_info": {
   "name": "python"
  }
 },
 "nbformat": 4,
 "nbformat_minor": 5
}


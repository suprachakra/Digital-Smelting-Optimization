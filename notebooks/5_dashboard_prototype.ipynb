{
 "cells": [
  {
   "cell_type": "markdown",
   "metadata": {},
   "source": [
    "# 5. Dashboard Prototype\n",
    "\n",
    "This notebook demonstrates a minimal operational dashboard using Plotly.\n",
    "We imagine streaming PDE outputs or optimization results for real-time monitoring."
   ]
  },
  {
   "cell_type": "code",
   "metadata": {},
   "source": [
    "import plotly.graph_objs as go\n",
    "import plotly.offline as pyo\n",
    "import pandas as pd\n",
    "import numpy as np\n",
    "\n",
    "# For demonstration, we'll load the processed data from day1.\n",
    "df = pd.read_csv('../data/processed/sensor_data_day1_cleaned.csv')\n",
    "\n",
    "# Example: line plot of voltage/current over time.\n",
    "trace1 = go.Scatter(\n",
    "    x=df['timestamp'],\n",
    "    y=df['voltage'],\n",
    "    mode='lines',\n",
    "    name='Voltage'\n",
    ")\n",
    "\n",
    "trace2 = go.Scatter(\n",
    "    x=df['timestamp'],\n",
    "    y=df['current'],\n",
    "    mode='lines',\n",
    "    name='Current',\n",
    "    yaxis='y2'\n",
    ")\n",
    "\n",
    "layout = go.Layout(\n",
    "    title='Smelting Voltage & Current Over Time',\n",
    "    xaxis=dict(title='Time'),\n",
    "    yaxis=dict(title='Voltage (V)'),\n",
    "    yaxis2=dict(\n",
    "        title='Current (A)',\n",
    "        overlaying='y',\n",
    "        side='right'\n",
    "    )\n",
    ")\n",
    "\n",
    "fig = go.Figure(data=[trace1, trace2], layout=layout)\n",
    "pyo.iplot(fig)"
   ],
   "execution_count": null,
   "outputs": []
  },
  {
   "cell_type": "markdown",
   "metadata": {},
   "source": [
    "## 5.1 Potential Next Steps\n",
    "- Add real-time data updates (Dash or Voila).\n",
    "- Integrate optimization setpoints.\n",
    "- Include PDE temperature fields (2D/3D) snapshots or heatmaps."
   ]
  }
 ],
 "metadata": {
  "kernelspec": {
   "display_name": "Python 3",
   "language": "python",
   "name": "python3"
  },
  "language_info": {
   "name": "python"
  }
 },
 "nbformat": 4,
 "nbformat_minor": 5
}


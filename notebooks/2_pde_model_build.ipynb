{
 "cells": [
  {
   "cell_type": "markdown",
   "metadata": {},
   "source": [
    "# 2. PDE Model Build\n",
    "\n",
    "In this notebook, we demonstrate how to instantiate and run the thermal PDE model (Fourier’s Law), as well as other PDE components if desired. We assume you have the following structure:\n",
    "- `models/thermal_model.py`\n",
    "- `models/mass_transfer_model.py`\n",
    "- `models/electrochemistry.py`\n",
    "- `models/combined_model.py`\n",
    "\n",
    "We will showcase a small 2D mesh example using FEniCS-like syntax."
   ]
  },
  {
   "cell_type": "code",
   "metadata": {
    "executionInfo": {}
   },
   "source": [
    "import dolfin  # or fenics\n",
    "from models.thermal_model import ThermalModel\n",
    "import matplotlib.pyplot as plt\n",
    "\n",
    "def visualize_field(field, title=\"Temperature Field\"):\n",
    "    try:\n",
    "        # Plot with fenics built-in\n",
    "        p = dolfin.plot(field)\n",
    "        plt.colorbar(p)\n",
    "        plt.title(title)\n",
    "        plt.show()\n",
    "    except:\n",
    "        print(\"Visualization error. Check your fenics/dolfin version.\")"
   ],
   "execution_count": null,
   "outputs": []
  },
  {
   "cell_type": "markdown",
   "metadata": {},
   "source": [
    "## 2.1 Create Mesh & Instantiate Model\n",
    "We'll create a simple UnitSquareMesh. Then we'll set thermal properties and run a short simulation."
   ]
  },
  {
   "cell_type": "code",
   "metadata": {},
   "source": [
    "# Create a 2D mesh with 20x20 subdivisions\n",
    "mesh = dolfin.UnitSquareMesh(dolfin.MPI.comm_world, 20, 20)\n",
    "\n",
    "# Example material properties\n",
    "rho = 2700.0          # density\n",
    "cp = 900.0            # heat capacity\n",
    "k = 200.0             # thermal conductivity\n",
    "Q_electrical = 0.5    # internal heat source term, example\n",
    "\n",
    "model = ThermalModel(mesh, rho, cp, k, Q_electrical)\n",
    "model.set_initial_condition(700.0)  # e.g., 700 K as initial T\n",
    "model.set_boundary_conditions(700.0)  # Dirichlet BC at boundaries"
   ],
   "execution_count": null,
   "outputs": []
  },
  {
   "cell_type": "markdown",
   "metadata": {},
   "source": [
    "## 2.2 Run Simulation\n",
    "We'll simulate for 5 seconds with a 1-second timestep."
   ]
  },
  {
   "cell_type": "code",
   "metadata": {},
   "source": [
    "results = model.run_simulation(total_time=5, dt=1)\n",
    "print(f\"Total snapshots: {len(results)}\")\n",
    "last_field = results[-1]\n",
    "visualize_field(last_field, title=\"Final Temperature Field after 5s\")"
   ],
   "execution_count": null,
   "outputs": []
  },
  {
   "cell_type": "markdown",
   "metadata": {},
   "source": [
    "## 2.3 Next Steps\n",
    "- Integrate mass transfer (`mass_transfer_model.py`) or the combined model (`combined_model.py`).\n",
    "- Calibrate PDE parameters using real or synthetic data.\n",
    "- Scale up to HPC (Phase 3) or integrate with optimization (Phase 4)."
   ]
  }
 ],
 "metadata": {
  "kernelspec": {
   "display_name": "Python 3",
   "language": "python",
   "name": "python3"
  },
  "language_info": {
   "name": "python"
  }
 },
 "nbformat": 4,
 "nbformat_minor": 5
}

